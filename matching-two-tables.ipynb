{
 "cells": [
  {
   "cell_type": "markdown",
   "metadata": {},
   "source": [
    "## Matching two number tables"
   ]
  },
  {
   "cell_type": "code",
   "execution_count": 2,
   "metadata": {},
   "outputs": [],
   "source": [
    "import pandas as pd\n",
    "\n",
    "table1 = pd.DataFrame({\n",
    "    'A': [1, 2],\n",
    "    'B': [2, 5],\n",
    "})\n",
    "\n",
    "\n",
    "table2 = pd.DataFrame({\n",
    "    'X': [2, 4],\n",
    "    'Y': [5, 7],\n",
    "})"
   ]
  },
  {
   "cell_type": "code",
   "execution_count": 3,
   "metadata": {},
   "outputs": [],
   "source": [
    "# Initialize an empty list to store matching results\n",
    "matching_results = []\n",
    "\n",
    "# Loop through each row in table1\n",
    "for _, row1 in table1.iterrows():\n",
    "    # Initialize a list to store matching rows and their scores\n",
    "    matches = []\n",
    "    \n",
    "    # Loop through each row in table2\n",
    "    for _, row2 in table2.iterrows():\n",
    "        \n",
    "        # Count the number of matching columns\n",
    "        match_score = sum(row1[col1] == row2[col2] for col1 in table1.columns for col2 in table2.columns)\n",
    "\n",
    "        # If there's at least one matching column\n",
    "        if match_score > 0:\n",
    "            # Merge the dictionaries to form a new row containing all columns\n",
    "            matched_row = {**row1, **row2}\n",
    "            # Add match score to the new row\n",
    "            matched_row['match_score'] = match_score\n",
    "            # Append the matched row to matches\n",
    "            matches.append(matched_row)\n",
    "    \n",
    "    # If there are matches for the current row in table1\n",
    "    if matches:\n",
    "        # Extend matching_results with matches\n",
    "        matching_results.extend(matches)\n",
    "\n",
    "# Create a DataFrame from the list of matching results\n",
    "matching_results_df = pd.DataFrame(matching_results)\n",
    "matching_results_df = matching_results_df.sort_values(by = 'match_score', ascending=False)"
   ]
  },
  {
   "cell_type": "code",
   "execution_count": 4,
   "metadata": {},
   "outputs": [
    {
     "name": "stdout",
     "output_type": "stream",
     "text": [
      "Table 1:\n",
      "   A  B\n",
      "0  1  2\n",
      "1  2  5\n",
      "\n",
      "Table 2:\n",
      "   X  Y\n",
      "0  2  5\n",
      "1  4  7\n",
      "\n",
      "Matching Results:\n",
      "   A  B  X  Y  match_score\n",
      "1  2  5  2  5            2\n",
      "0  1  2  2  5            1\n"
     ]
    }
   ],
   "source": [
    "print(\"Table 1:\")\n",
    "print(table1)\n",
    "print(\"\\nTable 2:\")\n",
    "print(table2)\n",
    "print(\"\\nMatching Results:\")\n",
    "print(matching_results_df)"
   ]
  }
 ],
 "metadata": {
  "kernelspec": {
   "display_name": ".venv",
   "language": "python",
   "name": "python3"
  },
  "language_info": {
   "codemirror_mode": {
    "name": "ipython",
    "version": 3
   },
   "file_extension": ".py",
   "mimetype": "text/x-python",
   "name": "python",
   "nbconvert_exporter": "python",
   "pygments_lexer": "ipython3",
   "version": "3.11.2"
  }
 },
 "nbformat": 4,
 "nbformat_minor": 2
}
