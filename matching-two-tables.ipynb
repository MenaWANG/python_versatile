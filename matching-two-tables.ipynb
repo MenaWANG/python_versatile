{
 "cells": [
  {
   "cell_type": "markdown",
   "metadata": {},
   "source": [
    "# Fuzzy Table Match\n",
    "\n",
    "You have two tables that you want to match. You are not sure which columns should match with which column, and you also want the match to tolerate minor differences and variations to find close matches rather than exact matches. \n",
    "\n",
    "Tasks achieved here 💃🏻\n",
    "\n",
    "* ✅ Compare each row in table 1 with each row in table 2 and return a match score for each combination (which is the total # of columns matched)\n",
    "* ✅ Return a joined table with all matched rows where match score > 0\n",
    "* ✅ Incorporating fuzzy match for all the string columns "
   ]
  },
  {
   "cell_type": "markdown",
   "metadata": {},
   "source": [
    "## Matching two number tables"
   ]
  },
  {
   "cell_type": "code",
   "execution_count": 95,
   "metadata": {},
   "outputs": [],
   "source": [
    "import pandas as pd\n",
    "from IPython.display import display\n",
    "\n",
    "table1 = pd.DataFrame({\n",
    "    'A': [1, 2],\n",
    "    'B': [3, 5],\n",
    "})\n",
    "\n",
    "\n",
    "table2 = pd.DataFrame({\n",
    "    'X': [2, 1, 1],\n",
    "    'Y': [5, 7, 3]\n",
    "})"
   ]
  },
  {
   "cell_type": "code",
   "execution_count": 96,
   "metadata": {},
   "outputs": [],
   "source": [
    "# Initialize an empty list to store matching results\n",
    "matching_results = []\n",
    "\n",
    "# Loop through each row in table1\n",
    "for _, row1 in table1.iterrows():\n",
    "    # Initialize a list to store matching rows and their scores\n",
    "    matches = []\n",
    "    \n",
    "    # Loop through each row in table2\n",
    "    for _, row2 in table2.iterrows():\n",
    "        \n",
    "        # Count the number of matching columns\n",
    "        match_score = sum(row1[col1] == row2[col2] for col1 in table1.columns for col2 in table2.columns)\n",
    "\n",
    "        # If there's at least one matching column\n",
    "        if match_score > 0:\n",
    "            # Merge the dictionaries to form a new row containing all columns\n",
    "            matched_row = {**row1, **row2}\n",
    "            # Add match score to the new row\n",
    "            matched_row['match_score'] = match_score\n",
    "            # Append the matched row to matches\n",
    "            matches.append(matched_row)\n",
    "    \n",
    "    # If there are matches for the current row in table1\n",
    "    if matches:\n",
    "        # Extend matching_results with matches\n",
    "        matching_results.extend(matches)\n",
    "\n",
    "# Create a DataFrame from the list of matching results\n",
    "matching_results_df = pd.DataFrame(matching_results)\n",
    "matching_results_df = matching_results_df.sort_values(by = ['A', 'B', 'match_score'], ascending=[True, True, False])"
   ]
  },
  {
   "cell_type": "code",
   "execution_count": 97,
   "metadata": {},
   "outputs": [
    {
     "name": "stdout",
     "output_type": "stream",
     "text": [
      "Table 1:\n"
     ]
    },
    {
     "data": {
      "text/html": [
       "<div>\n",
       "<style scoped>\n",
       "    .dataframe tbody tr th:only-of-type {\n",
       "        vertical-align: middle;\n",
       "    }\n",
       "\n",
       "    .dataframe tbody tr th {\n",
       "        vertical-align: top;\n",
       "    }\n",
       "\n",
       "    .dataframe thead th {\n",
       "        text-align: right;\n",
       "    }\n",
       "</style>\n",
       "<table border=\"1\" class=\"dataframe\">\n",
       "  <thead>\n",
       "    <tr style=\"text-align: right;\">\n",
       "      <th></th>\n",
       "      <th>A</th>\n",
       "      <th>B</th>\n",
       "    </tr>\n",
       "  </thead>\n",
       "  <tbody>\n",
       "    <tr>\n",
       "      <th>0</th>\n",
       "      <td>1</td>\n",
       "      <td>3</td>\n",
       "    </tr>\n",
       "    <tr>\n",
       "      <th>1</th>\n",
       "      <td>2</td>\n",
       "      <td>5</td>\n",
       "    </tr>\n",
       "  </tbody>\n",
       "</table>\n",
       "</div>"
      ],
      "text/plain": [
       "   A  B\n",
       "0  1  3\n",
       "1  2  5"
      ]
     },
     "metadata": {},
     "output_type": "display_data"
    },
    {
     "name": "stdout",
     "output_type": "stream",
     "text": [
      "\n",
      "Table 2:\n"
     ]
    },
    {
     "data": {
      "text/html": [
       "<div>\n",
       "<style scoped>\n",
       "    .dataframe tbody tr th:only-of-type {\n",
       "        vertical-align: middle;\n",
       "    }\n",
       "\n",
       "    .dataframe tbody tr th {\n",
       "        vertical-align: top;\n",
       "    }\n",
       "\n",
       "    .dataframe thead th {\n",
       "        text-align: right;\n",
       "    }\n",
       "</style>\n",
       "<table border=\"1\" class=\"dataframe\">\n",
       "  <thead>\n",
       "    <tr style=\"text-align: right;\">\n",
       "      <th></th>\n",
       "      <th>X</th>\n",
       "      <th>Y</th>\n",
       "    </tr>\n",
       "  </thead>\n",
       "  <tbody>\n",
       "    <tr>\n",
       "      <th>0</th>\n",
       "      <td>2</td>\n",
       "      <td>5</td>\n",
       "    </tr>\n",
       "    <tr>\n",
       "      <th>1</th>\n",
       "      <td>1</td>\n",
       "      <td>7</td>\n",
       "    </tr>\n",
       "    <tr>\n",
       "      <th>2</th>\n",
       "      <td>1</td>\n",
       "      <td>3</td>\n",
       "    </tr>\n",
       "  </tbody>\n",
       "</table>\n",
       "</div>"
      ],
      "text/plain": [
       "   X  Y\n",
       "0  2  5\n",
       "1  1  7\n",
       "2  1  3"
      ]
     },
     "metadata": {},
     "output_type": "display_data"
    },
    {
     "name": "stdout",
     "output_type": "stream",
     "text": [
      "\n",
      "Matching Results:\n"
     ]
    },
    {
     "data": {
      "text/html": [
       "<div>\n",
       "<style scoped>\n",
       "    .dataframe tbody tr th:only-of-type {\n",
       "        vertical-align: middle;\n",
       "    }\n",
       "\n",
       "    .dataframe tbody tr th {\n",
       "        vertical-align: top;\n",
       "    }\n",
       "\n",
       "    .dataframe thead th {\n",
       "        text-align: right;\n",
       "    }\n",
       "</style>\n",
       "<table border=\"1\" class=\"dataframe\">\n",
       "  <thead>\n",
       "    <tr style=\"text-align: right;\">\n",
       "      <th></th>\n",
       "      <th>A</th>\n",
       "      <th>B</th>\n",
       "      <th>X</th>\n",
       "      <th>Y</th>\n",
       "      <th>match_score</th>\n",
       "    </tr>\n",
       "  </thead>\n",
       "  <tbody>\n",
       "    <tr>\n",
       "      <th>1</th>\n",
       "      <td>1</td>\n",
       "      <td>3</td>\n",
       "      <td>1</td>\n",
       "      <td>3</td>\n",
       "      <td>2</td>\n",
       "    </tr>\n",
       "    <tr>\n",
       "      <th>0</th>\n",
       "      <td>1</td>\n",
       "      <td>3</td>\n",
       "      <td>1</td>\n",
       "      <td>7</td>\n",
       "      <td>1</td>\n",
       "    </tr>\n",
       "    <tr>\n",
       "      <th>2</th>\n",
       "      <td>2</td>\n",
       "      <td>5</td>\n",
       "      <td>2</td>\n",
       "      <td>5</td>\n",
       "      <td>2</td>\n",
       "    </tr>\n",
       "  </tbody>\n",
       "</table>\n",
       "</div>"
      ],
      "text/plain": [
       "   A  B  X  Y  match_score\n",
       "1  1  3  1  3            2\n",
       "0  1  3  1  7            1\n",
       "2  2  5  2  5            2"
      ]
     },
     "metadata": {},
     "output_type": "display_data"
    }
   ],
   "source": [
    "print(\"Table 1:\")\n",
    "display(table1)\n",
    "print(\"\\nTable 2:\")\n",
    "display(table2)\n",
    "print(\"\\nMatching Results:\")\n",
    "display(matching_results_df)"
   ]
  },
  {
   "cell_type": "markdown",
   "metadata": {},
   "source": [
    "## Matching tables of numbers and strings "
   ]
  },
  {
   "cell_type": "code",
   "execution_count": 98,
   "metadata": {},
   "outputs": [],
   "source": [
    "# Sample DataFrames with mixed numeric and categorical columns\n",
    "table1 = pd.DataFrame({\n",
    "    'A': [1, 2],\n",
    "    'B': ['cat', 'bird'],  \n",
    "})\n",
    "\n",
    "table2 = pd.DataFrame({\n",
    "    'X': [1, 2, 1],\n",
    "    'Y': ['dog', 'birdy', 'cat'], \n",
    "})"
   ]
  },
  {
   "cell_type": "code",
   "execution_count": 99,
   "metadata": {},
   "outputs": [],
   "source": [
    "# Initialize an empty list to store matching results\n",
    "matching_results = []\n",
    "\n",
    "# Loop through each row in table1\n",
    "for _, row1 in table1.iterrows():\n",
    "    # Initialize a list to store matching rows and their scores\n",
    "    matches = []\n",
    "    \n",
    "    # Loop through each row in table2\n",
    "    for _, row2 in table2.iterrows():\n",
    "        # Initialize match score\n",
    "        match_score = 0\n",
    "        \n",
    "        # Check numeric columns for equality\n",
    "        for col1, col2 in zip(table1.select_dtypes(include=['number']), table2.select_dtypes(include=['number'])):\n",
    "            if row1[col1] == row2[col2]:\n",
    "                match_score += 1\n",
    "        \n",
    "        # Check categorical columns for equality (convert to string for comparison)\n",
    "        for col1, col2 in zip(table1.select_dtypes(exclude=['number']), table2.select_dtypes(exclude=['number'])):\n",
    "            if str(row1[col1]) == str(row2[col2]):\n",
    "                match_score += 1\n",
    "        \n",
    "        # If there's at least one matching column\n",
    "        if match_score > 0:\n",
    "            # Merge the dictionaries to form a new row containing all columns\n",
    "            matched_row = {**row1, **row2}\n",
    "            # Add match score to the new row\n",
    "            matched_row['match_score'] = match_score\n",
    "            # Append the matched row to matches\n",
    "            matches.append(matched_row)\n",
    "    \n",
    "    # If there are matches for the current row in table1\n",
    "    if matches:\n",
    "        # Extend matching_results with matches\n",
    "        matching_results.extend(matches)\n",
    "\n",
    "# Create a DataFrame from the list of matching results\n",
    "matching_results_df = pd.DataFrame(matching_results)\n",
    "matching_results_df = matching_results_df.sort_values(by = ['A', 'B', 'match_score'], ascending=[True, True, False])"
   ]
  },
  {
   "cell_type": "code",
   "execution_count": 100,
   "metadata": {},
   "outputs": [
    {
     "name": "stdout",
     "output_type": "stream",
     "text": [
      "Table 1:\n"
     ]
    },
    {
     "data": {
      "text/html": [
       "<div>\n",
       "<style scoped>\n",
       "    .dataframe tbody tr th:only-of-type {\n",
       "        vertical-align: middle;\n",
       "    }\n",
       "\n",
       "    .dataframe tbody tr th {\n",
       "        vertical-align: top;\n",
       "    }\n",
       "\n",
       "    .dataframe thead th {\n",
       "        text-align: right;\n",
       "    }\n",
       "</style>\n",
       "<table border=\"1\" class=\"dataframe\">\n",
       "  <thead>\n",
       "    <tr style=\"text-align: right;\">\n",
       "      <th></th>\n",
       "      <th>A</th>\n",
       "      <th>B</th>\n",
       "    </tr>\n",
       "  </thead>\n",
       "  <tbody>\n",
       "    <tr>\n",
       "      <th>0</th>\n",
       "      <td>1</td>\n",
       "      <td>cat</td>\n",
       "    </tr>\n",
       "    <tr>\n",
       "      <th>1</th>\n",
       "      <td>2</td>\n",
       "      <td>bird</td>\n",
       "    </tr>\n",
       "  </tbody>\n",
       "</table>\n",
       "</div>"
      ],
      "text/plain": [
       "   A     B\n",
       "0  1   cat\n",
       "1  2  bird"
      ]
     },
     "metadata": {},
     "output_type": "display_data"
    },
    {
     "name": "stdout",
     "output_type": "stream",
     "text": [
      "\n",
      "Table 2:\n"
     ]
    },
    {
     "data": {
      "text/html": [
       "<div>\n",
       "<style scoped>\n",
       "    .dataframe tbody tr th:only-of-type {\n",
       "        vertical-align: middle;\n",
       "    }\n",
       "\n",
       "    .dataframe tbody tr th {\n",
       "        vertical-align: top;\n",
       "    }\n",
       "\n",
       "    .dataframe thead th {\n",
       "        text-align: right;\n",
       "    }\n",
       "</style>\n",
       "<table border=\"1\" class=\"dataframe\">\n",
       "  <thead>\n",
       "    <tr style=\"text-align: right;\">\n",
       "      <th></th>\n",
       "      <th>X</th>\n",
       "      <th>Y</th>\n",
       "    </tr>\n",
       "  </thead>\n",
       "  <tbody>\n",
       "    <tr>\n",
       "      <th>0</th>\n",
       "      <td>1</td>\n",
       "      <td>dog</td>\n",
       "    </tr>\n",
       "    <tr>\n",
       "      <th>1</th>\n",
       "      <td>2</td>\n",
       "      <td>birdy</td>\n",
       "    </tr>\n",
       "    <tr>\n",
       "      <th>2</th>\n",
       "      <td>1</td>\n",
       "      <td>cat</td>\n",
       "    </tr>\n",
       "  </tbody>\n",
       "</table>\n",
       "</div>"
      ],
      "text/plain": [
       "   X      Y\n",
       "0  1    dog\n",
       "1  2  birdy\n",
       "2  1    cat"
      ]
     },
     "metadata": {},
     "output_type": "display_data"
    },
    {
     "name": "stdout",
     "output_type": "stream",
     "text": [
      "\n",
      "Matching Results:\n"
     ]
    },
    {
     "data": {
      "text/html": [
       "<div>\n",
       "<style scoped>\n",
       "    .dataframe tbody tr th:only-of-type {\n",
       "        vertical-align: middle;\n",
       "    }\n",
       "\n",
       "    .dataframe tbody tr th {\n",
       "        vertical-align: top;\n",
       "    }\n",
       "\n",
       "    .dataframe thead th {\n",
       "        text-align: right;\n",
       "    }\n",
       "</style>\n",
       "<table border=\"1\" class=\"dataframe\">\n",
       "  <thead>\n",
       "    <tr style=\"text-align: right;\">\n",
       "      <th></th>\n",
       "      <th>A</th>\n",
       "      <th>B</th>\n",
       "      <th>X</th>\n",
       "      <th>Y</th>\n",
       "      <th>match_score</th>\n",
       "    </tr>\n",
       "  </thead>\n",
       "  <tbody>\n",
       "    <tr>\n",
       "      <th>1</th>\n",
       "      <td>1</td>\n",
       "      <td>cat</td>\n",
       "      <td>1</td>\n",
       "      <td>cat</td>\n",
       "      <td>2</td>\n",
       "    </tr>\n",
       "    <tr>\n",
       "      <th>0</th>\n",
       "      <td>1</td>\n",
       "      <td>cat</td>\n",
       "      <td>1</td>\n",
       "      <td>dog</td>\n",
       "      <td>1</td>\n",
       "    </tr>\n",
       "    <tr>\n",
       "      <th>2</th>\n",
       "      <td>2</td>\n",
       "      <td>bird</td>\n",
       "      <td>2</td>\n",
       "      <td>birdy</td>\n",
       "      <td>1</td>\n",
       "    </tr>\n",
       "  </tbody>\n",
       "</table>\n",
       "</div>"
      ],
      "text/plain": [
       "   A     B  X      Y  match_score\n",
       "1  1   cat  1    cat            2\n",
       "0  1   cat  1    dog            1\n",
       "2  2  bird  2  birdy            1"
      ]
     },
     "metadata": {},
     "output_type": "display_data"
    }
   ],
   "source": [
    "print(\"Table 1:\")\n",
    "display(table1)\n",
    "print(\"\\nTable 2:\")\n",
    "display(table2)\n",
    "print(\"\\nMatching Results:\")\n",
    "display(matching_results_df)"
   ]
  },
  {
   "cell_type": "markdown",
   "metadata": {},
   "source": [
    "## Introducing Fuzzy Match"
   ]
  },
  {
   "cell_type": "code",
   "execution_count": 101,
   "metadata": {},
   "outputs": [],
   "source": [
    "# Sample DataFrames with mixed numeric and categorical columns\n",
    "table1 = pd.DataFrame({\n",
    "    'A': [1, 2],\n",
    "    'B': ['cat', 'bird'],  \n",
    "})\n",
    "\n",
    "table2 = pd.DataFrame({\n",
    "    'X': [1, 2, 1],\n",
    "    'Y': ['dog', 'birdy', 'cat'], \n",
    "})"
   ]
  },
  {
   "cell_type": "code",
   "execution_count": 102,
   "metadata": {},
   "outputs": [],
   "source": [
    "from fuzzywuzzy import fuzz  \n",
    "\n",
    "# Initialize an empty list to store matching results\n",
    "matching_results = []\n",
    "\n",
    "# Loop through each row in table1\n",
    "for _, row1 in table1.iterrows():\n",
    "    # Initialize a list to store matching rows and their scores\n",
    "    matches = []\n",
    "    \n",
    "    # Loop through each row in table2\n",
    "    for _, row2 in table2.iterrows():\n",
    "        # Initialize match score\n",
    "        match_score = 0\n",
    "        \n",
    "        # Check numeric columns for equality\n",
    "        for col1, col2 in zip(table1.select_dtypes(include=['number']), table2.select_dtypes(include=['number'])):\n",
    "            if row1[col1] == row2[col2]:\n",
    "                match_score += 1\n",
    "        \n",
    "        # Check string columns for similarity (fuzzy match)\n",
    "        for col1, col2 in zip(table1.select_dtypes(exclude=['number']), table2.select_dtypes(exclude=['number'])):\n",
    "            similarity_score = fuzz.ratio(str(row1[col1]), str(row2[col2]))\n",
    "            if similarity_score >= 80:  # Adjust the threshold as needed\n",
    "                match_score += 1\n",
    "        \n",
    "        # If there's at least one matching column\n",
    "        if match_score > 0:\n",
    "            # Merge the dictionaries to form a new row containing all columns\n",
    "            matched_row = {**row1, **row2}\n",
    "            # Add match score to the new row\n",
    "            matched_row['match_score'] = match_score\n",
    "            # Append the matched row to matches\n",
    "            matches.append(matched_row)\n",
    "    \n",
    "    # If there are matches for the current row in table1\n",
    "    if matches:\n",
    "        # Extend matching_results with matches\n",
    "        matching_results.extend(matches)\n",
    "\n",
    "# Create a DataFrame from the list of matching results\n",
    "matching_results_df = pd.DataFrame(matching_results)\n",
    "matching_results_df = matching_results_df.sort_values(by = ['A', 'B', 'match_score'], ascending=[True, True, False])"
   ]
  },
  {
   "cell_type": "code",
   "execution_count": 103,
   "metadata": {},
   "outputs": [
    {
     "name": "stdout",
     "output_type": "stream",
     "text": [
      "Table 1:\n"
     ]
    },
    {
     "data": {
      "text/html": [
       "<div>\n",
       "<style scoped>\n",
       "    .dataframe tbody tr th:only-of-type {\n",
       "        vertical-align: middle;\n",
       "    }\n",
       "\n",
       "    .dataframe tbody tr th {\n",
       "        vertical-align: top;\n",
       "    }\n",
       "\n",
       "    .dataframe thead th {\n",
       "        text-align: right;\n",
       "    }\n",
       "</style>\n",
       "<table border=\"1\" class=\"dataframe\">\n",
       "  <thead>\n",
       "    <tr style=\"text-align: right;\">\n",
       "      <th></th>\n",
       "      <th>A</th>\n",
       "      <th>B</th>\n",
       "    </tr>\n",
       "  </thead>\n",
       "  <tbody>\n",
       "    <tr>\n",
       "      <th>0</th>\n",
       "      <td>1</td>\n",
       "      <td>cat</td>\n",
       "    </tr>\n",
       "    <tr>\n",
       "      <th>1</th>\n",
       "      <td>2</td>\n",
       "      <td>bird</td>\n",
       "    </tr>\n",
       "  </tbody>\n",
       "</table>\n",
       "</div>"
      ],
      "text/plain": [
       "   A     B\n",
       "0  1   cat\n",
       "1  2  bird"
      ]
     },
     "metadata": {},
     "output_type": "display_data"
    },
    {
     "name": "stdout",
     "output_type": "stream",
     "text": [
      "\n",
      "Table 2:\n"
     ]
    },
    {
     "data": {
      "text/html": [
       "<div>\n",
       "<style scoped>\n",
       "    .dataframe tbody tr th:only-of-type {\n",
       "        vertical-align: middle;\n",
       "    }\n",
       "\n",
       "    .dataframe tbody tr th {\n",
       "        vertical-align: top;\n",
       "    }\n",
       "\n",
       "    .dataframe thead th {\n",
       "        text-align: right;\n",
       "    }\n",
       "</style>\n",
       "<table border=\"1\" class=\"dataframe\">\n",
       "  <thead>\n",
       "    <tr style=\"text-align: right;\">\n",
       "      <th></th>\n",
       "      <th>X</th>\n",
       "      <th>Y</th>\n",
       "    </tr>\n",
       "  </thead>\n",
       "  <tbody>\n",
       "    <tr>\n",
       "      <th>0</th>\n",
       "      <td>1</td>\n",
       "      <td>dog</td>\n",
       "    </tr>\n",
       "    <tr>\n",
       "      <th>1</th>\n",
       "      <td>2</td>\n",
       "      <td>birdy</td>\n",
       "    </tr>\n",
       "    <tr>\n",
       "      <th>2</th>\n",
       "      <td>1</td>\n",
       "      <td>cat</td>\n",
       "    </tr>\n",
       "  </tbody>\n",
       "</table>\n",
       "</div>"
      ],
      "text/plain": [
       "   X      Y\n",
       "0  1    dog\n",
       "1  2  birdy\n",
       "2  1    cat"
      ]
     },
     "metadata": {},
     "output_type": "display_data"
    },
    {
     "name": "stdout",
     "output_type": "stream",
     "text": [
      "\n",
      "Matching Results:\n"
     ]
    },
    {
     "data": {
      "text/html": [
       "<div>\n",
       "<style scoped>\n",
       "    .dataframe tbody tr th:only-of-type {\n",
       "        vertical-align: middle;\n",
       "    }\n",
       "\n",
       "    .dataframe tbody tr th {\n",
       "        vertical-align: top;\n",
       "    }\n",
       "\n",
       "    .dataframe thead th {\n",
       "        text-align: right;\n",
       "    }\n",
       "</style>\n",
       "<table border=\"1\" class=\"dataframe\">\n",
       "  <thead>\n",
       "    <tr style=\"text-align: right;\">\n",
       "      <th></th>\n",
       "      <th>A</th>\n",
       "      <th>B</th>\n",
       "      <th>X</th>\n",
       "      <th>Y</th>\n",
       "      <th>match_score</th>\n",
       "    </tr>\n",
       "  </thead>\n",
       "  <tbody>\n",
       "    <tr>\n",
       "      <th>1</th>\n",
       "      <td>1</td>\n",
       "      <td>cat</td>\n",
       "      <td>1</td>\n",
       "      <td>cat</td>\n",
       "      <td>2</td>\n",
       "    </tr>\n",
       "    <tr>\n",
       "      <th>0</th>\n",
       "      <td>1</td>\n",
       "      <td>cat</td>\n",
       "      <td>1</td>\n",
       "      <td>dog</td>\n",
       "      <td>1</td>\n",
       "    </tr>\n",
       "    <tr>\n",
       "      <th>2</th>\n",
       "      <td>2</td>\n",
       "      <td>bird</td>\n",
       "      <td>2</td>\n",
       "      <td>birdy</td>\n",
       "      <td>2</td>\n",
       "    </tr>\n",
       "  </tbody>\n",
       "</table>\n",
       "</div>"
      ],
      "text/plain": [
       "   A     B  X      Y  match_score\n",
       "1  1   cat  1    cat            2\n",
       "0  1   cat  1    dog            1\n",
       "2  2  bird  2  birdy            2"
      ]
     },
     "metadata": {},
     "output_type": "display_data"
    }
   ],
   "source": [
    "print(\"Table 1:\")\n",
    "display(table1)\n",
    "print(\"\\nTable 2:\")\n",
    "display(table2)\n",
    "print(\"\\nMatching Results:\")\n",
    "display(matching_results_df)"
   ]
  }
 ],
 "metadata": {
  "kernelspec": {
   "display_name": ".venv",
   "language": "python",
   "name": "python3"
  },
  "language_info": {
   "codemirror_mode": {
    "name": "ipython",
    "version": 3
   },
   "file_extension": ".py",
   "mimetype": "text/x-python",
   "name": "python",
   "nbconvert_exporter": "python",
   "pygments_lexer": "ipython3",
   "version": "3.11.2"
  }
 },
 "nbformat": 4,
 "nbformat_minor": 2
}
