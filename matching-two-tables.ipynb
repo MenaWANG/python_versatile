{
 "cells": [
  {
   "cell_type": "markdown",
   "metadata": {},
   "source": [
    "## Matching two number tables"
   ]
  },
  {
   "cell_type": "code",
   "execution_count": 55,
   "metadata": {},
   "outputs": [],
   "source": [
    "import pandas as pd\n",
    "\n",
    "table1 = pd.DataFrame({\n",
    "    'A': [2, 1],\n",
    "    'B': [5, 2],\n",
    "})\n",
    "\n",
    "\n",
    "table2 = pd.DataFrame({\n",
    "    'X': [2, 4, 1],\n",
    "    'Y': [5, 7, 3]\n",
    "})"
   ]
  },
  {
   "cell_type": "code",
   "execution_count": 56,
   "metadata": {},
   "outputs": [],
   "source": [
    "# Initialize an empty list to store matching results\n",
    "matching_results = []\n",
    "\n",
    "# Loop through each row in table1\n",
    "for _, row1 in table1.iterrows():\n",
    "    # Initialize a list to store matching rows and their scores\n",
    "    matches = []\n",
    "    \n",
    "    # Loop through each row in table2\n",
    "    for _, row2 in table2.iterrows():\n",
    "        \n",
    "        # Count the number of matching columns\n",
    "        match_score = sum(row1[col1] == row2[col2] for col1 in table1.columns for col2 in table2.columns)\n",
    "\n",
    "        # If there's at least one matching column\n",
    "        if match_score > 0:\n",
    "            # Merge the dictionaries to form a new row containing all columns\n",
    "            matched_row = {**row1, **row2}\n",
    "            # Add match score to the new row\n",
    "            matched_row['match_score'] = match_score\n",
    "            # Append the matched row to matches\n",
    "            matches.append(matched_row)\n",
    "    \n",
    "    # If there are matches for the current row in table1\n",
    "    if matches:\n",
    "        # Extend matching_results with matches\n",
    "        matching_results.extend(matches)\n",
    "\n",
    "# Create a DataFrame from the list of matching results\n",
    "matching_results_df = pd.DataFrame(matching_results)\n",
    "matching_results_df = matching_results_df.sort_values(by = ['A', 'B', 'match_score'], ascending=[True, True, False])"
   ]
  },
  {
   "cell_type": "code",
   "execution_count": 57,
   "metadata": {},
   "outputs": [
    {
     "name": "stdout",
     "output_type": "stream",
     "text": [
      "Table 1:\n",
      "   A  B\n",
      "0  2  5\n",
      "1  1  2\n",
      "\n",
      "Table 2:\n",
      "   X  Y\n",
      "0  2  5\n",
      "1  4  7\n",
      "2  1  3\n",
      "\n",
      "Matching Results:\n",
      "   A  B  X  Y  match_score\n",
      "1  1  2  2  5            1\n",
      "2  1  2  1  3            1\n",
      "0  2  5  2  5            2\n"
     ]
    }
   ],
   "source": [
    "print(\"Table 1:\")\n",
    "print(table1)\n",
    "print(\"\\nTable 2:\")\n",
    "print(table2)\n",
    "print(\"\\nMatching Results:\")\n",
    "print(matching_results_df)"
   ]
  },
  {
   "cell_type": "markdown",
   "metadata": {},
   "source": [
    "## Matching tables of numbers and strings "
   ]
  },
  {
   "cell_type": "code",
   "execution_count": 58,
   "metadata": {},
   "outputs": [],
   "source": [
    "# Sample DataFrames with mixed numeric and categorical columns\n",
    "table1 = pd.DataFrame({\n",
    "    'A': [1, 2],\n",
    "    'B': ['cat', 'bird'],  \n",
    "})\n",
    "\n",
    "table2 = pd.DataFrame({\n",
    "    'X': [1, 2, 1],\n",
    "    'Y': ['dog', 'birdy', 'cat'], \n",
    "})"
   ]
  },
  {
   "cell_type": "code",
   "execution_count": 59,
   "metadata": {},
   "outputs": [],
   "source": [
    "# Initialize an empty list to store matching results\n",
    "matching_results = []\n",
    "\n",
    "# Loop through each row in table1\n",
    "for _, row1 in table1.iterrows():\n",
    "    # Initialize a list to store matching rows and their scores\n",
    "    matches = []\n",
    "    \n",
    "    # Loop through each row in table2\n",
    "    for _, row2 in table2.iterrows():\n",
    "        # Initialize match score\n",
    "        match_score = 0\n",
    "        \n",
    "        # Check numeric columns for equality\n",
    "        for col1, col2 in zip(table1.select_dtypes(include=['number']), table2.select_dtypes(include=['number'])):\n",
    "            if row1[col1] == row2[col2]:\n",
    "                match_score += 1\n",
    "        \n",
    "        # Check categorical columns for equality (convert to string for comparison)\n",
    "        for col1, col2 in zip(table1.select_dtypes(exclude=['number']), table2.select_dtypes(exclude=['number'])):\n",
    "            if str(row1[col1]) == str(row2[col2]):\n",
    "                match_score += 1\n",
    "        \n",
    "        # If there's at least one matching column\n",
    "        if match_score > 0:\n",
    "            # Merge the dictionaries to form a new row containing all columns\n",
    "            matched_row = {**row1, **row2}\n",
    "            # Add match score to the new row\n",
    "            matched_row['match_score'] = match_score\n",
    "            # Append the matched row to matches\n",
    "            matches.append(matched_row)\n",
    "    \n",
    "    # If there are matches for the current row in table1\n",
    "    if matches:\n",
    "        # Extend matching_results with matches\n",
    "        matching_results.extend(matches)\n",
    "\n",
    "# Create a DataFrame from the list of matching results\n",
    "matching_results_df = pd.DataFrame(matching_results)\n",
    "matching_results_df = matching_results_df.sort_values(by = ['A', 'B', 'match_score'], ascending=[True, True, False])"
   ]
  },
  {
   "cell_type": "code",
   "execution_count": 60,
   "metadata": {},
   "outputs": [
    {
     "name": "stdout",
     "output_type": "stream",
     "text": [
      "Table 1:\n",
      "   A     B\n",
      "0  1   cat\n",
      "1  2  bird\n",
      "\n",
      "Table 2:\n",
      "   X      Y\n",
      "0  1    dog\n",
      "1  2  birdy\n",
      "2  1    cat\n",
      "\n",
      "Matching Results:\n",
      "   A     B  X      Y  match_score\n",
      "1  1   cat  1    cat            2\n",
      "0  1   cat  1    dog            1\n",
      "2  2  bird  2  birdy            1\n"
     ]
    }
   ],
   "source": [
    "print(\"Table 1:\")\n",
    "print(table1)\n",
    "print(\"\\nTable 2:\")\n",
    "print(table2)\n",
    "print(\"\\nMatching Results:\")\n",
    "print(matching_results_df)"
   ]
  },
  {
   "cell_type": "markdown",
   "metadata": {},
   "source": [
    "## Introducing Fuzzy Match"
   ]
  },
  {
   "cell_type": "code",
   "execution_count": 61,
   "metadata": {},
   "outputs": [],
   "source": [
    "# Sample DataFrames with mixed numeric and categorical columns\n",
    "table1 = pd.DataFrame({\n",
    "    'A': [1, 2],\n",
    "    'B': ['cat', 'bird'],  \n",
    "})\n",
    "\n",
    "table2 = pd.DataFrame({\n",
    "    'X': [1, 2, 1],\n",
    "    'Y': ['dog', 'birdy', 'cat'], \n",
    "})"
   ]
  },
  {
   "cell_type": "code",
   "execution_count": 62,
   "metadata": {},
   "outputs": [],
   "source": [
    "from fuzzywuzzy import fuzz  \n",
    "\n",
    "# Initialize an empty list to store matching results\n",
    "matching_results = []\n",
    "\n",
    "# Loop through each row in table1\n",
    "for _, row1 in table1.iterrows():\n",
    "    # Initialize a list to store matching rows and their scores\n",
    "    matches = []\n",
    "    \n",
    "    # Loop through each row in table2\n",
    "    for _, row2 in table2.iterrows():\n",
    "        # Initialize match score\n",
    "        match_score = 0\n",
    "        \n",
    "        # Check numeric columns for equality\n",
    "        for col1, col2 in zip(table1.select_dtypes(include=['number']), table2.select_dtypes(include=['number'])):\n",
    "            if row1[col1] == row2[col2]:\n",
    "                match_score += 1\n",
    "        \n",
    "        # Check string columns for similarity (fuzzy match)\n",
    "        for col1, col2 in zip(table1.select_dtypes(exclude=['number']), table2.select_dtypes(exclude=['number'])):\n",
    "            similarity_score = fuzz.ratio(str(row1[col1]), str(row2[col2]))\n",
    "            if similarity_score >= 80:  # Adjust the threshold as needed\n",
    "                match_score += 1\n",
    "        \n",
    "        # If there's at least one matching column\n",
    "        if match_score > 0:\n",
    "            # Merge the dictionaries to form a new row containing all columns\n",
    "            matched_row = {**row1, **row2}\n",
    "            # Add match score to the new row\n",
    "            matched_row['match_score'] = match_score\n",
    "            # Append the matched row to matches\n",
    "            matches.append(matched_row)\n",
    "    \n",
    "    # If there are matches for the current row in table1\n",
    "    if matches:\n",
    "        # Extend matching_results with matches\n",
    "        matching_results.extend(matches)\n",
    "\n",
    "# Create a DataFrame from the list of matching results\n",
    "matching_results_df = pd.DataFrame(matching_results)\n",
    "matching_results_df = matching_results_df.sort_values(by = ['A', 'B', 'match_score'], ascending=[True, True, False])"
   ]
  },
  {
   "cell_type": "code",
   "execution_count": 63,
   "metadata": {},
   "outputs": [
    {
     "name": "stdout",
     "output_type": "stream",
     "text": [
      "Table 1:\n",
      "   A     B\n",
      "0  1   cat\n",
      "1  2  bird\n",
      "\n",
      "Table 2:\n",
      "   X      Y\n",
      "0  1    dog\n",
      "1  2  birdy\n",
      "2  1    cat\n",
      "\n",
      "Matching Results:\n",
      "   A     B  X      Y  match_score\n",
      "1  1   cat  1    cat            2\n",
      "0  1   cat  1    dog            1\n",
      "2  2  bird  2  birdy            2\n"
     ]
    }
   ],
   "source": [
    "print(\"Table 1:\")\n",
    "print(table1)\n",
    "print(\"\\nTable 2:\")\n",
    "print(table2)\n",
    "print(\"\\nMatching Results:\")\n",
    "print(matching_results_df)"
   ]
  }
 ],
 "metadata": {
  "kernelspec": {
   "display_name": ".venv",
   "language": "python",
   "name": "python3"
  },
  "language_info": {
   "codemirror_mode": {
    "name": "ipython",
    "version": 3
   },
   "file_extension": ".py",
   "mimetype": "text/x-python",
   "name": "python",
   "nbconvert_exporter": "python",
   "pygments_lexer": "ipython3",
   "version": "3.11.2"
  }
 },
 "nbformat": 4,
 "nbformat_minor": 2
}
